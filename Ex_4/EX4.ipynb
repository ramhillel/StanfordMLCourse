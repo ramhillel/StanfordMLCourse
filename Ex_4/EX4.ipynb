{
 "cells": [
  {
   "cell_type": "code",
   "execution_count": 261,
   "metadata": {
    "collapsed": true
   },
   "outputs": [],
   "source": [
    "import pandas as pd\n",
    "import numpy as np\n",
    "import matplotlib.pyplot as plt\n",
    "from sklearn import linear_model\n",
    "from scipy import optimize\n",
    "from sympy import *\n",
    "from scipy.io import loadmat\n",
    "import scipy.optimize as op\n",
    "from sklearn.preprocessing import OneHotEncoder\n",
    "from collections import namedtuple\n",
    "%matplotlib inline"
   ]
  },
  {
   "cell_type": "markdown",
   "metadata": {},
   "source": [
    "# 1. Neural Network"
   ]
  },
  {
   "cell_type": "code",
   "execution_count": 262,
   "metadata": {
    "collapsed": true
   },
   "outputs": [],
   "source": [
    "def sigmoid(z):\n",
    "    return float(1) / (1 + np.exp(-z))"
   ]
  },
  {
   "cell_type": "markdown",
   "metadata": {},
   "source": [
    "## 1.1 Visualizing The Data"
   ]
  },
  {
   "cell_type": "code",
   "execution_count": 263,
   "metadata": {
    "collapsed": true
   },
   "outputs": [],
   "source": [
    "data = loadmat(\"ex4data1.mat\")\n",
    "weights = loadmat(\"ex4weights.mat\")"
   ]
  },
  {
   "cell_type": "code",
   "execution_count": 264,
   "metadata": {},
   "outputs": [
    {
     "data": {
      "text/plain": [
       "((5000, 400), (25, 401), (10, 26), (5000, 1))"
      ]
     },
     "execution_count": 264,
     "metadata": {},
     "output_type": "execute_result"
    }
   ],
   "source": [
    "X = data['X']\n",
    "y = data['y']\n",
    "Theta1 = weights['Theta1']\n",
    "Theta2 = weights['Theta2']\n",
    "Thetot = np.concatenate((Theta1.ravel(), Theta2.ravel()))\n",
    "X.shape, Theta1.shape, Theta2.shape, y.shape"
   ]
  },
  {
   "cell_type": "code",
   "execution_count": 265,
   "metadata": {},
   "outputs": [
    {
     "data": {
      "text/plain": [
       "(-0.5, 199.5, 19.5, -0.5)"
      ]
     },
     "execution_count": 265,
     "metadata": {},
     "output_type": "execute_result"
    },
    {
     "data": {
      "image/png": "[encoded data removed]",
      "text/plain": [
       "<matplotlib.figure.Figure at 0x7f1bc89d0908>"
      ]
     },
     "metadata": {},
     "output_type": "display_data"
    }
   ],
   "source": [
    "samples = np.random.choice(X.shape[0], 10)\n",
    "plt.imshow(X[samples,:].reshape(-1,20).transpose())\n",
    "plt.axis('off')"
   ]
  },
  {
   "cell_type": "markdown",
   "metadata": {},
   "source": [
    "## 1.2 Model Representation"
   ]
  },
  {
   "cell_type": "code",
   "execution_count": 266,
   "metadata": {},
   "outputs": [],
   "source": [
    "def feedforwardPropagtion(X, theta1, theta2):\n",
    "    a1 = np.insert(X, 0, np.ones(X.shape[0]), axis=1)\n",
    "    z2 = np.dot(a1, theta1.transpose())\n",
    "    a2 = np.insert(sigmoid(z2), 0, np.ones(z2.shape[0]), axis=1)\n",
    "    z3 = np.dot(a2, theta2.transpose())\n",
    "    a3 = sigmoid(z3)\n",
    "    return namedtuple(\"_\", [\"a1\", \"z2\", \"a2\", \"z3\", \"a3\"])(a1, z2, a2, z3, a3)"
   ]
  },
  {
   "cell_type": "code",
   "execution_count": 269,
   "metadata": {},
   "outputs": [
    {
     "data": {
      "text/plain": [
       "0.37904640005669155"
      ]
     },
     "execution_count": 269,
     "metadata": {},
     "output_type": "execute_result"
    }
   ],
   "source": [
    "def nnCostFunction(Theta_1_2, X, y, gama, hidden_layer_size):\n",
    "    K = len(np.unique(y)) # num of classes\n",
    "    \n",
    "    X = np.matrix(X)\n",
    "    y_k = np.matrix(pd.get_dummies(y.ravel()))\n",
    "    m, n = X.shape # n = num of features, m = num of samples\n",
    "    \n",
    "    theta1 = np.reshape(Theta_1_2[:hidden_layer_size * (n + 1)], (hidden_layer_size, n+1))\n",
    "    theta2 = np.reshape(Theta_1_2[hidden_layer_size * (n + 1):], (K, hidden_layer_size + 1))\n",
    "    \n",
    "    ffPropogation = feedforwardPropagtion(X, theta1, theta2)\n",
    "    \n",
    "    J_theta = 0\n",
    "    \n",
    "    for i in range(0, m):\n",
    "        firstArg = -np.log(ffPropogation.a3[i, :]) * (y_k[i, :].T)\n",
    "        secondArg = np.log(1-ffPropogation.a3[i, :]) * ((1-y_k[i, :]).T)\n",
    "        J_theta += np.sum(firstArg - secondArg)\n",
    "\n",
    "    regArg = (float(gama)/(2*m)) * (np.sum(np.square(theta1[1:])) + np.sum(np.square(theta2[1:])))\n",
    "    \n",
    "    J_theta /= m\n",
    "    J_theta += regArg\n",
    "    return J_theta\n",
    "    \n",
    "    \n",
    "nnCostFunction(Thetot, X, y, 1, 25)"
   ]
  },
  {
   "cell_type": "markdown",
   "metadata": {},
   "source": [
    "# 2. Backpropagation"
   ]
  },
  {
   "cell_type": "code",
   "execution_count": 270,
   "metadata": {
    "collapsed": true
   },
   "outputs": [],
   "source": [
    "def sigmoidGrad(z):\n",
    "    return np.multiply(sigmoid(z), (1-sigmoid(z)))"
   ]
  }
 ],
 "metadata": {
  "kernelspec": {
   "display_name": "Python 3",
   "language": "python",
   "name": "python3"
  },
  "language_info": {
   "codemirror_mode": {
    "name": "ipython",
    "version": 3
   },
   "file_extension": ".py",
   "mimetype": "text/x-python",
   "name": "python",
   "nbconvert_exporter": "python",
   "pygments_lexer": "ipython3",
   "version": "3.6.3"
  }
 },
 "nbformat": 4,
 "nbformat_minor": 2
}
