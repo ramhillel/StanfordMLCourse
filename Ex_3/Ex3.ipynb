{
 "cells": [
  {
   "cell_type": "code",
   "execution_count": 19,
   "metadata": {
    "collapsed": true
   },
   "outputs": [],
   "source": [
    "import pandas as pd\n",
    "import numpy as np\n",
    "import matplotlib.pyplot as plt\n",
    "from sklearn import linear_model\n",
    "from scipy import optimize\n",
    "from sympy import *\n",
    "from scipy.io import loadmat\n",
    "import scipy.optimize as op\n",
    "from sklearn.preprocessing import OneHotEncoder\n",
    "from collections import namedtuple\n",
    "%matplotlib inline"
   ]
  },
  {
   "cell_type": "markdown",
   "metadata": {},
   "source": [
    "# 1. Multi-Class Classification"
   ]
  },
  {
   "cell_type": "code",
   "execution_count": 4,
   "metadata": {
    "collapsed": true
   },
   "outputs": [],
   "source": [
    "data = loadmat(\"ex3data1.mat\")"
   ]
  },
  {
   "cell_type": "code",
   "execution_count": 5,
   "metadata": {
    "collapsed": true
   },
   "outputs": [],
   "source": [
    "X = data['X']\n",
    "y = data['y']"
   ]
  },
  {
   "cell_type": "markdown",
   "metadata": {},
   "source": [
    "## 1.2 Visualize The Data"
   ]
  },
  {
   "cell_type": "code",
   "execution_count": 6,
   "metadata": {},
   "outputs": [
    {
     "data": {
      "image/png": "[encoded data removed]",
      "text/plain": [
       "<matplotlib.figure.Figure at 0x7f09a26c6da0>"
      ]
     },
     "metadata": {},
     "output_type": "display_data"
    }
   ],
   "source": [
    "samples = np.random.choice(X.shape[0], 10)\n",
    "plt.imshow(X[samples,:].reshape(-1,20).transpose())\n",
    "plt.axis('off');"
   ]
  },
  {
   "cell_type": "markdown",
   "metadata": {},
   "source": [
    "## 1.3 Vectorizing Regularized Logistic Regression"
   ]
  },
  {
   "cell_type": "code",
   "execution_count": 7,
   "metadata": {
    "collapsed": true
   },
   "outputs": [],
   "source": [
    "def sigmoid(z):\n",
    "    return float(1) / (1 + np.exp(-z))"
   ]
  },
  {
   "cell_type": "code",
   "execution_count": 8,
   "metadata": {
    "collapsed": true
   },
   "outputs": [],
   "source": [
    "def vectorizedCostFunction(theta, X, y, gama):\n",
    "    X = np.matrix(X)\n",
    "    y = np.matrix(y)\n",
    "    theta = np.matrix(theta)\n",
    "    \n",
    "    m, n = X.shape\n",
    "    regArg = (float(gama) / (2*m)) * np.sum(np.square(theta[:, 1:]))\n",
    "    firstArg = np.multiply(-y, np.log(sigmoid(X * theta.transpose())))\n",
    "    secondArg = np.multiply(1-y, np.log(1 - sigmoid(X*theta.transpose())))\n",
    "    return ((float(1)/m)*np.sum(firstArg-secondArg)) + regArg"
   ]
  },
  {
   "cell_type": "code",
   "execution_count": 9,
   "metadata": {
    "collapsed": true
   },
   "outputs": [],
   "source": [
    "def vectorizedGradient(theta, X, y, gama):\n",
    "    X = np.matrix(X)\n",
    "    y = np.matrix(y)\n",
    "    theta = np.matrix(theta)\n",
    "    \n",
    "    m, n = X.shape\n",
    "    regArg = (float(gama)/m) * np.c_[0, theta[:, 1:]]\n",
    "    beta = sigmoid(X * theta.transpose()) - y\n",
    "    grad = (float(1) / m)*X.transpose()*beta\n",
    "    return grad + regArg.transpose()"
   ]
  },
  {
   "cell_type": "markdown",
   "metadata": {},
   "source": [
    "## 1.4 OneVsAll Classification"
   ]
  },
  {
   "cell_type": "code",
   "execution_count": 10,
   "metadata": {
    "collapsed": true
   },
   "outputs": [],
   "source": [
    "def oneVsAllClassification(X, y, gama):\n",
    "    numOfClasses = len(np.unique(y))\n",
    "    X = np.insert(X, 0, np.ones(X.shape[0]), axis=1)\n",
    "    m, n = X.shape\n",
    "    model = np.zeros(shape=(numOfClasses, n))\n",
    "    \n",
    "    for number in range(1, numOfClasses + 1): # 0 == 10 in this data set, so iterating between 1 to 10\n",
    "        currY = np.array([1 if yRow == number else 0 for yRow in y])\n",
    "        currY = np.reshape(currY, (-1, 1))\n",
    "        theta = np.zeros(n)\n",
    "        theta = op.minimize(fun=vectorizedCostFunction, x0=theta, args=(X, currY, gama), \n",
    "                            jac=vectorizedGradient, method=\"TNC\")\n",
    "        model[number-1, :] = theta.x\n",
    "    return model"
   ]
  },
  {
   "cell_type": "code",
   "execution_count": 11,
   "metadata": {
    "collapsed": true
   },
   "outputs": [],
   "source": [
    "model = oneVsAllClassification(X, y, 1)"
   ]
  },
  {
   "cell_type": "markdown",
   "metadata": {},
   "source": [
    "### 1.4.1 One Vs All Prediction"
   ]
  },
  {
   "cell_type": "code",
   "execution_count": 12,
   "metadata": {
    "collapsed": true
   },
   "outputs": [],
   "source": [
    "def oneVsAllPrediction(X, model):\n",
    "    X = np.insert(X, 0, np.ones(X.shape[0]), axis=1)\n",
    "    X = np.matrix(X)\n",
    "    model = np.matrix(model)\n",
    "    costPrediction = sigmoid(X * model.transpose())\n",
    "    maxPred = np.argmax(costPrediction, axis=1)\n",
    "    return maxPred + 1"
   ]
  },
  {
   "cell_type": "code",
   "execution_count": 13,
   "metadata": {
    "collapsed": true
   },
   "outputs": [],
   "source": [
    "myPrediction = oneVsAllPrediction(X, model)"
   ]
  },
  {
   "cell_type": "markdown",
   "metadata": {},
   "source": [
    "### Accuracy!!!"
   ]
  },
  {
   "cell_type": "code",
   "execution_count": 14,
   "metadata": {},
   "outputs": [
    {
     "name": "stdout",
     "output_type": "stream",
     "text": [
      "Accuracy = 94.46%\n"
     ]
    }
   ],
   "source": [
    "print(f\"Accuracy = {(np.sum(myPrediction == y) / float(len(y)))*100}%\")"
   ]
  },
  {
   "cell_type": "markdown",
   "metadata": {},
   "source": [
    "# 2. Neural Networks"
   ]
  },
  {
   "cell_type": "code",
   "execution_count": 15,
   "metadata": {},
   "outputs": [],
   "source": [
    "weights = loadmat(\"ex3weights.mat\")\n",
    "data = loadmat(\"ex3data1.mat\")"
   ]
  },
  {
   "cell_type": "code",
   "execution_count": 16,
   "metadata": {
    "collapsed": true
   },
   "outputs": [],
   "source": [
    "theta1 = weights['Theta1']\n",
    "theta2 = weights['Theta2']\n",
    "\n",
    "X = data['X']\n",
    "y = data['y']"
   ]
  },
  {
   "cell_type": "code",
   "execution_count": 24,
   "metadata": {},
   "outputs": [
    {
     "data": {
      "text/plain": [
       "((5000, 400), (25, 401), (10, 26))"
      ]
     },
     "execution_count": 24,
     "metadata": {},
     "output_type": "execute_result"
    }
   ],
   "source": [
    "X.shape, theta1.shape, theta2.shape"
   ]
  },
  {
   "cell_type": "markdown",
   "metadata": {},
   "source": [
    "## 2.2 Feedforward Propagation And Prediction"
   ]
  },
  {
   "cell_type": "code",
   "execution_count": 33,
   "metadata": {
    "collapsed": true
   },
   "outputs": [],
   "source": [
    "def feedforwardPropagtionPredict(X, thetaPhase1, thetaPhase2):\n",
    "    a1 = np.insert(X, 0, np.ones(X.shape[0]), axis=1)\n",
    "    z2 = np.dot(a1, theta1.transpose())\n",
    "    a2 = np.insert(sigmoid(z2), 0, np.ones(z2.shape[0]), axis=1)\n",
    "    z3 = np.dot(a2, theta2.transpose())\n",
    "    a3 = sigmoid(z3)\n",
    "    \n",
    "    return np.argmax(a3, axis=1) + 1\n",
    "    "
   ]
  },
  {
   "cell_type": "code",
   "execution_count": 35,
   "metadata": {},
   "outputs": [],
   "source": [
    "myPrediction = feedforwardPropagtionPredict(X, theta1, theta2)"
   ]
  },
  {
   "cell_type": "code",
   "execution_count": 37,
   "metadata": {},
   "outputs": [
    {
     "name": "stdout",
     "output_type": "stream",
     "text": [
      "Accuracy = 97.52%\n"
     ]
    }
   ],
   "source": [
    "print(f\"Accuracy = {(np.sum(myPrediction == y.ravel()) / float(len(y)))*100}%\")"
   ]
  },
  {
   "cell_type": "markdown",
   "metadata": {},
   "source": [
    "# 3. With sklearn!"
   ]
  },
  {
   "cell_type": "code",
   "execution_count": null,
   "metadata": {
    "collapsed": true
   },
   "outputs": [],
   "source": []
  }
 ],
 "metadata": {
  "kernelspec": {
   "display_name": "Python 3",
   "language": "python",
   "name": "python3"
  },
  "language_info": {
   "codemirror_mode": {
    "name": "ipython",
    "version": 3
   },
   "file_extension": ".py",
   "mimetype": "text/x-python",
   "name": "python",
   "nbconvert_exporter": "python",
   "pygments_lexer": "ipython3",
   "version": "3.6.3"
  }
 },
 "nbformat": 4,
 "nbformat_minor": 2
}
