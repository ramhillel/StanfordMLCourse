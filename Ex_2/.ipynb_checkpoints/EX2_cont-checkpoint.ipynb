{
 "cells": [
  {
   "cell_type": "markdown",
   "metadata": {},
   "source": [
    "# 2. Regularized Logistic Regression"
   ]
  },
  {
   "cell_type": "markdown",
   "metadata": {},
   "source": [
    "## 2.1 Visualizing the data"
   ]
  },
  {
   "cell_type": "code",
   "execution_count": 176,
   "metadata": {
    "collapsed": true
   },
   "outputs": [],
   "source": [
    "import pandas as pd\n",
    "import numpy as np\n",
    "import matplotlib.pyplot as plt\n",
    "from sklearn import linear_model\n",
    "from scipy import optimize\n",
    "from sympy import *\n",
    "%matplotlib inline"
   ]
  },
  {
   "cell_type": "code",
   "execution_count": 177,
   "metadata": {},
   "outputs": [
    {
     "data": {
      "text/plain": [
       "<matplotlib.collections.PathCollection at 0x7f2735732438>"
      ]
     },
     "execution_count": 177,
     "metadata": {},
     "output_type": "execute_result"
    },
    {
     "data": {
      "image/png": "[encoded data removed]",
      "text/plain": [
       "<matplotlib.figure.Figure at 0x7f273597c748>"
      ]
     },
     "metadata": {},
     "output_type": "display_data"
    }
   ],
   "source": [
    "df = pd.read_csv(\"ex2data2.txt\", header=None, names=[\"t1\", \"t2\", \"Accepted\"])\n",
    "accepted = df[df['Accepted'] == 1]\n",
    "rejected = df[df['Accepted'] == 0]\n",
    "\n",
    "plt.scatter(accepted.t1, accepted.t2, marker=\"o\")\n",
    "plt.scatter(rejected.t1, rejected.t2, marker=\"X\")"
   ]
  },
  {
   "cell_type": "markdown",
   "metadata": {},
   "source": [
    "### We can see that the function seperates the classes can't be decribed by linear line"
   ]
  },
  {
   "cell_type": "markdown",
   "metadata": {},
   "source": [
    "## 2.2 Feature Mapping"
   ]
  },
  {
   "cell_type": "code",
   "execution_count": 178,
   "metadata": {},
   "outputs": [
    {
     "data": {
      "text/html": [
       "<div>\n",
       "<style>\n",
       "    .dataframe thead tr:only-child th {\n",
       "        text-align: right;\n",
       "    }\n",
       "\n",
       "    .dataframe thead th {\n",
       "        text-align: left;\n",
       "    }\n",
       "\n",
       "    .dataframe tbody tr th {\n",
       "        vertical-align: top;\n",
       "    }\n",
       "</style>\n",
       "<table border=\"1\" class=\"dataframe\">\n",
       "  <thead>\n",
       "    <tr style=\"text-align: right;\">\n",
       "      <th></th>\n",
       "      <th>Ones</th>\n",
       "      <th>t1</th>\n",
       "      <th>t2</th>\n",
       "      <th>t1^1*t2^0</th>\n",
       "      <th>t1^2*t2^0</th>\n",
       "      <th>t1^1*t2^1</th>\n",
       "      <th>t1^3*t2^0</th>\n",
       "      <th>t1^2*t2^1</th>\n",
       "      <th>t1^1*t2^2</th>\n",
       "      <th>t1^4*t2^0</th>\n",
       "      <th>...</th>\n",
       "      <th>t1^3*t2^2</th>\n",
       "      <th>t1^2*t2^3</th>\n",
       "      <th>t1^1*t2^4</th>\n",
       "      <th>t1^6*t2^0</th>\n",
       "      <th>t1^5*t2^1</th>\n",
       "      <th>t1^4*t2^2</th>\n",
       "      <th>t1^3*t2^3</th>\n",
       "      <th>t1^2*t2^4</th>\n",
       "      <th>t1^1*t2^5</th>\n",
       "      <th>Accepted</th>\n",
       "    </tr>\n",
       "  </thead>\n",
       "  <tbody>\n",
       "    <tr>\n",
       "      <th>0</th>\n",
       "      <td>1</td>\n",
       "      <td>0.051267</td>\n",
       "      <td>0.69956</td>\n",
       "      <td>0.051267</td>\n",
       "      <td>0.002628</td>\n",
       "      <td>0.035864</td>\n",
       "      <td>0.000135</td>\n",
       "      <td>0.001839</td>\n",
       "      <td>0.025089</td>\n",
       "      <td>0.000007</td>\n",
       "      <td>...</td>\n",
       "      <td>0.000066</td>\n",
       "      <td>0.000900</td>\n",
       "      <td>0.012278</td>\n",
       "      <td>1.815630e-08</td>\n",
       "      <td>2.477505e-07</td>\n",
       "      <td>0.000003</td>\n",
       "      <td>0.000046</td>\n",
       "      <td>0.000629</td>\n",
       "      <td>0.008589</td>\n",
       "      <td>1</td>\n",
       "    </tr>\n",
       "    <tr>\n",
       "      <th>1</th>\n",
       "      <td>1</td>\n",
       "      <td>-0.092742</td>\n",
       "      <td>0.68494</td>\n",
       "      <td>-0.092742</td>\n",
       "      <td>0.008601</td>\n",
       "      <td>-0.063523</td>\n",
       "      <td>-0.000798</td>\n",
       "      <td>0.005891</td>\n",
       "      <td>-0.043509</td>\n",
       "      <td>0.000074</td>\n",
       "      <td>...</td>\n",
       "      <td>-0.000374</td>\n",
       "      <td>0.002764</td>\n",
       "      <td>-0.020412</td>\n",
       "      <td>6.362953e-07</td>\n",
       "      <td>-4.699318e-06</td>\n",
       "      <td>0.000035</td>\n",
       "      <td>-0.000256</td>\n",
       "      <td>0.001893</td>\n",
       "      <td>-0.013981</td>\n",
       "      <td>1</td>\n",
       "    </tr>\n",
       "    <tr>\n",
       "      <th>2</th>\n",
       "      <td>1</td>\n",
       "      <td>-0.213710</td>\n",
       "      <td>0.69225</td>\n",
       "      <td>-0.213710</td>\n",
       "      <td>0.045672</td>\n",
       "      <td>-0.147941</td>\n",
       "      <td>-0.009761</td>\n",
       "      <td>0.031616</td>\n",
       "      <td>-0.102412</td>\n",
       "      <td>0.002086</td>\n",
       "      <td>...</td>\n",
       "      <td>-0.004677</td>\n",
       "      <td>0.015151</td>\n",
       "      <td>-0.049077</td>\n",
       "      <td>9.526844e-05</td>\n",
       "      <td>-3.085938e-04</td>\n",
       "      <td>0.001000</td>\n",
       "      <td>-0.003238</td>\n",
       "      <td>0.010488</td>\n",
       "      <td>-0.033973</td>\n",
       "      <td>1</td>\n",
       "    </tr>\n",
       "    <tr>\n",
       "      <th>3</th>\n",
       "      <td>1</td>\n",
       "      <td>-0.375000</td>\n",
       "      <td>0.50219</td>\n",
       "      <td>-0.375000</td>\n",
       "      <td>0.140625</td>\n",
       "      <td>-0.188321</td>\n",
       "      <td>-0.052734</td>\n",
       "      <td>0.070620</td>\n",
       "      <td>-0.094573</td>\n",
       "      <td>0.019775</td>\n",
       "      <td>...</td>\n",
       "      <td>-0.013299</td>\n",
       "      <td>0.017810</td>\n",
       "      <td>-0.023851</td>\n",
       "      <td>2.780914e-03</td>\n",
       "      <td>-3.724126e-03</td>\n",
       "      <td>0.004987</td>\n",
       "      <td>-0.006679</td>\n",
       "      <td>0.008944</td>\n",
       "      <td>-0.011978</td>\n",
       "      <td>1</td>\n",
       "    </tr>\n",
       "    <tr>\n",
       "      <th>4</th>\n",
       "      <td>1</td>\n",
       "      <td>-0.513250</td>\n",
       "      <td>0.46564</td>\n",
       "      <td>-0.513250</td>\n",
       "      <td>0.263426</td>\n",
       "      <td>-0.238990</td>\n",
       "      <td>-0.135203</td>\n",
       "      <td>0.122661</td>\n",
       "      <td>-0.111283</td>\n",
       "      <td>0.069393</td>\n",
       "      <td>...</td>\n",
       "      <td>-0.029315</td>\n",
       "      <td>0.026596</td>\n",
       "      <td>-0.024128</td>\n",
       "      <td>1.827990e-02</td>\n",
       "      <td>-1.658422e-02</td>\n",
       "      <td>0.015046</td>\n",
       "      <td>-0.013650</td>\n",
       "      <td>0.012384</td>\n",
       "      <td>-0.011235</td>\n",
       "      <td>1</td>\n",
       "    </tr>\n",
       "  </tbody>\n",
       "</table>\n",
       "<p>5 rows × 25 columns</p>\n",
       "</div>"
      ],
      "text/plain": [
       "   Ones        t1       t2  t1^1*t2^0  t1^2*t2^0  t1^1*t2^1  t1^3*t2^0  \\\n",
       "0     1  0.051267  0.69956   0.051267   0.002628   0.035864   0.000135   \n",
       "1     1 -0.092742  0.68494  -0.092742   0.008601  -0.063523  -0.000798   \n",
       "2     1 -0.213710  0.69225  -0.213710   0.045672  -0.147941  -0.009761   \n",
       "3     1 -0.375000  0.50219  -0.375000   0.140625  -0.188321  -0.052734   \n",
       "4     1 -0.513250  0.46564  -0.513250   0.263426  -0.238990  -0.135203   \n",
       "\n",
       "   t1^2*t2^1  t1^1*t2^2  t1^4*t2^0    ...     t1^3*t2^2  t1^2*t2^3  t1^1*t2^4  \\\n",
       "0   0.001839   0.025089   0.000007    ...      0.000066   0.000900   0.012278   \n",
       "1   0.005891  -0.043509   0.000074    ...     -0.000374   0.002764  -0.020412   \n",
       "2   0.031616  -0.102412   0.002086    ...     -0.004677   0.015151  -0.049077   \n",
       "3   0.070620  -0.094573   0.019775    ...     -0.013299   0.017810  -0.023851   \n",
       "4   0.122661  -0.111283   0.069393    ...     -0.029315   0.026596  -0.024128   \n",
       "\n",
       "      t1^6*t2^0     t1^5*t2^1  t1^4*t2^2  t1^3*t2^3  t1^2*t2^4  t1^1*t2^5  \\\n",
       "0  1.815630e-08  2.477505e-07   0.000003   0.000046   0.000629   0.008589   \n",
       "1  6.362953e-07 -4.699318e-06   0.000035  -0.000256   0.001893  -0.013981   \n",
       "2  9.526844e-05 -3.085938e-04   0.001000  -0.003238   0.010488  -0.033973   \n",
       "3  2.780914e-03 -3.724126e-03   0.004987  -0.006679   0.008944  -0.011978   \n",
       "4  1.827990e-02 -1.658422e-02   0.015046  -0.013650   0.012384  -0.011235   \n",
       "\n",
       "   Accepted  \n",
       "0         1  \n",
       "1         1  \n",
       "2         1  \n",
       "3         1  \n",
       "4         1  \n",
       "\n",
       "[5 rows x 25 columns]"
      ]
     },
     "execution_count": 178,
     "metadata": {},
     "output_type": "execute_result"
    }
   ],
   "source": [
    "df = pd.read_csv(\"ex2data2.txt\", header=None, names=[\"t1\", \"t2\", \"Accepted\"])\n",
    "maxExponent = 7\n",
    "for i in range(1, maxExponent):\n",
    "    for j in range(0, i):\n",
    "        colName = f\"t1^{i-j}*t2^{j}\"\n",
    "        df.insert(len(df.columns)-1, colName, np.power(df.t1, i-j)*np.power(df.t2, j))\n",
    "df.insert(0, \"Ones\", 1)\n",
    "df.head()"
   ]
  },
  {
   "cell_type": "markdown",
   "metadata": {},
   "source": [
    "### 2.3 Cost and Gradient functions"
   ]
  },
  {
   "cell_type": "code",
   "execution_count": 179,
   "metadata": {
    "collapsed": true
   },
   "outputs": [],
   "source": [
    "def sigmoid(z):\n",
    "    '''Compute sigmoid function for number/vector/matrix z'''\n",
    "    return 1 / (1 + np.exp(-z))"
   ]
  },
  {
   "cell_type": "code",
   "execution_count": 180,
   "metadata": {
    "collapsed": true
   },
   "outputs": [],
   "source": [
    "def costFunctionReg(theta, X, y, gama):\n",
    "    theta = np.matrix(theta)\n",
    "    X = np.matrix(X)\n",
    "    y = np.matrix(y)\n",
    "    z = X * theta.transpose()\n",
    "    sumArg = np.multiply(-y, np.log(sigmoid(z))) - np.multiply((1-y), np.log(1-sigmoid(z)))\n",
    "    m = X.shape[0]\n",
    "    return ((1 / float(m)) * np.sum(sumArg)) + (gama/(2*float(m))*np.sum(np.power(theta[:, 1:], 2)))"
   ]
  },
  {
   "cell_type": "code",
   "execution_count": 181,
   "metadata": {
    "collapsed": true
   },
   "outputs": [],
   "source": [
    "def gradientReg(theta, X, y, gama):\n",
    "    m, n = X.shape\n",
    "    gradientVector = np.array(np.zeros(n))\n",
    "    theta = np.matrix(theta)\n",
    "    X = np.matrix(X)\n",
    "    y = np.matrix(y)\n",
    "    \n",
    "    z = X * theta.transpose()\n",
    "    regArg = float(gama)/m\n",
    "    for j in range(n):\n",
    "        sumArg = np.multiply(sigmoid(z) - y, X[:, j])\n",
    "        regAddition = 0 if j==0 else regArg*theta[0, j] \n",
    "        gradientVector[j] = (np.sum(sumArg) * (1 / float(m))) + regAddition\n",
    "    return gradientVector"
   ]
  },
  {
   "cell_type": "code",
   "execution_count": 182,
   "metadata": {},
   "outputs": [
    {
     "name": "stdout",
     "output_type": "stream",
     "text": [
      "0.69314718056\n"
     ]
    }
   ],
   "source": [
    "X = np.matrix(df.as_matrix(columns=df.columns[:len(df.columns)-1]))\n",
    "y = np.matrix(df.as_matrix(columns=df.columns[len(df.columns)-1:]))\n",
    "theta = np.matrix(np.zeros(X.shape[1]))\n",
    "gama = 0\n",
    "\n",
    "print(costFunctionReg(theta, X, y, gama))"
   ]
  },
  {
   "cell_type": "markdown",
   "metadata": {},
   "source": [
    "### Optimizing Theta"
   ]
  },
  {
   "cell_type": "code",
   "execution_count": 183,
   "metadata": {
    "collapsed": true
   },
   "outputs": [],
   "source": [
    "def predictSingular(X, optimumTheta):\n",
    "    X = np.matrix(X)\n",
    "    optimumTheta = np.matrix(optimumTheta)\n",
    "    prob = sigmoid(X * optimumTheta.transpose())\n",
    "    return 1 if prob >= 0.5 else 0"
   ]
  },
  {
   "cell_type": "code",
   "execution_count": 184,
   "metadata": {},
   "outputs": [
    {
     "data": {
      "text/plain": [
       "array([   1.00340489,   -1.5385145 ,   -0.38410102,   -1.5385145 ,\n",
       "         -4.10471523,   -7.24308608,   -3.62805756,   12.5000742 ,\n",
       "         42.36713049,   62.62577717,   67.28685286,   59.31594681,\n",
       "        -29.20177452,   40.76661444,   95.82759102,  185.68628529,\n",
       "         76.25384442, -116.30628639, -132.95106888, -211.28029343,\n",
       "       -331.37471732, -258.28785542, -211.86086221,  103.9778482 ])"
      ]
     },
     "metadata": {},
     "output_type": "display_data"
    },
    {
     "name": "stdout",
     "output_type": "stream",
     "text": [
      "0.8559322033898306\n"
     ]
    }
   ],
   "source": [
    "optimumResult = optimize.minimize(fun=costFunctionReg, x0=theta, args=(X, y, gama), jac=gradientReg, method=\"TNC\")\n",
    "optimumTheta = optimumResult.x\n",
    "display(optimumTheta)\n",
    "prediction = np.array([predictSingular(x, optimumTheta) for x in X])\n",
    "accuracy = float(np.sum(prediction == np.array(y).T)) / len(X)\n",
    "print(accuracy)"
   ]
  },
  {
   "cell_type": "code",
   "execution_count": 185,
   "metadata": {},
   "outputs": [
    {
     "data": {
      "image/png": "[encoded data removed]",
      "text/plain": [
       "<matplotlib.figure.Figure at 0x7f2735800470>"
      ]
     },
     "metadata": {},
     "output_type": "display_data"
    }
   ],
   "source": [
    "df = pd.read_csv(\"ex2data2.txt\", header=None, names=[\"t1\", \"t2\", \"Accepted\"])\n",
    "accepted = df[df['Accepted'] == 1]\n",
    "rejected = df[df['Accepted'] == 0]\n",
    "\n",
    "plt.scatter(accepted.t1, accepted.t2, marker=\"o\")\n",
    "plt.scatter(rejected.t1, rejected.t2, marker=\"X\")\n",
    "x1 = np.linspace(-1, 1, 100)\n",
    "x2 = np.linspace(-1, 1, 100)\n",
    "X1, X2 = np.meshgrid(x1, x2)\n",
    "F = 1*optimumTheta[0] + X1*optimumTheta[1] + X2*optimumTheta[2]\n",
    "thetaIndex = 3\n",
    "for i in range(1, maxExponent):\n",
    "    for j in range(0, i):\n",
    "        F += (optimumTheta[thetaIndex]*(np.power(X1, i-j)*np.power(X2, j)))\n",
    "        thetaIndex += 1\n",
    "plt.contour(X1,X2,F,[0])\n",
    "plt.show()"
   ]
  }
 ],
 "metadata": {
  "kernelspec": {
   "display_name": "Python 3",
   "language": "python",
   "name": "python3"
  },
  "language_info": {
   "codemirror_mode": {
    "name": "ipython",
    "version": 3
   },
   "file_extension": ".py",
   "mimetype": "text/x-python",
   "name": "python",
   "nbconvert_exporter": "python",
   "pygments_lexer": "ipython3",
   "version": "3.6.3"
  }
 },
 "nbformat": 4,
 "nbformat_minor": 2
}
