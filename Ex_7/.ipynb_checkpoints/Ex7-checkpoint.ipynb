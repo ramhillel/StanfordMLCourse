{
 "cells": [
  {
   "cell_type": "code",
   "execution_count": 46,
   "metadata": {
    "collapsed": true
   },
   "outputs": [],
   "source": [
    "import pandas as pd\n",
    "import numpy as np\n",
    "import matplotlib.pyplot as plt\n",
    "from sklearn import linear_model\n",
    "from scipy import optimize\n",
    "from scipy import spatial\n",
    "from sympy import *\n",
    "from scipy.io import loadmat\n",
    "import scipy.optimize as op\n",
    "from sklearn.preprocessing import OneHotEncoder\n",
    "from collections import namedtuple\n",
    "from sklearn.preprocessing import MinMaxScaler\n",
    "from sklearn import svm\n",
    "import itertools\n",
    "%matplotlib inline"
   ]
  },
  {
   "cell_type": "markdown",
   "metadata": {},
   "source": [
    "# 1. K-means Clustering"
   ]
  },
  {
   "cell_type": "markdown",
   "metadata": {},
   "source": [
    "## 1.1 K-means implemantations"
   ]
  },
  {
   "cell_type": "code",
   "execution_count": 7,
   "metadata": {
    "collapsed": true
   },
   "outputs": [],
   "source": [
    "def centDistance(x, y):\n",
    "    return spatial.distance.euclidean(x, y)\n",
    "\n",
    "def findClosestCentroids(X, centroids):\n",
    "    c = []\n",
    "    for x in X:\n",
    "        minIndex = np.argmin(np.array([centDistance(x, centroid) for centroid in centroids]))\n",
    "        c.append(minIndex)\n",
    "    return c"
   ]
  },
  {
   "cell_type": "code",
   "execution_count": 43,
   "metadata": {},
   "outputs": [],
   "source": [
    "def computeCentroids(X, c, K):\n",
    "    c = np.array(c)\n",
    "    centroids = np.zeros((K, X.shape[1]))\n",
    "    for k in range(K):\n",
    "        indexes = np.where(c == k)\n",
    "        centroids[k, :] = (1/len(indexes[0])) * np.sum(X[indexes, :], axis=1)\n",
    "        \n",
    "    return centroids"
   ]
  },
  {
   "cell_type": "code",
   "execution_count": 84,
   "metadata": {
    "collapsed": true
   },
   "outputs": [],
   "source": [
    "def runKmeans(X, K, maxIters = 1000): # it's possible to implement with epsilon distance between old/new centroids\n",
    "    centroids = X[np.random.randint((X.shape[0]), size=K), :]\n",
    "    for it in range(maxIters):\n",
    "        c = findClosestCentroids(X, centroids)\n",
    "        centroids = computeCentroids(X, c, K)\n",
    "    return np.array(c), centroids"
   ]
  },
  {
   "cell_type": "code",
   "execution_count": 85,
   "metadata": {},
   "outputs": [],
   "source": [
    "data = loadmat('ex7data2.mat')  \n",
    "X = data['X']  \n",
    "c, centroids = runKmeans(X, 3)"
   ]
  },
  {
   "cell_type": "code",
   "execution_count": 87,
   "metadata": {},
   "outputs": [
    {
     "data": {
      "image/png": "[encoded data removed]",
      "text/plain": [
       "<matplotlib.figure.Figure at 0x7f8d6433fe48>"
      ]
     },
     "metadata": {},
     "output_type": "display_data"
    }
   ],
   "source": [
    "fig, ax = plt.subplots()\n",
    "\n",
    "ax.scatter(X[np.where(c == 0), 0], X[np.where(c == 0), 1], color='g', label=\"Cluster 0\")\n",
    "ax.scatter(X[np.where(c == 1), 0], X[np.where(c == 1), 1], color='r', label=\"Cluster 1\")\n",
    "ax.scatter(X[np.where(c == 2), 0], X[np.where(c == 2), 1], color='b', label=\"Cluster 2\")\n",
    "ax.legend()\n",
    "plt.show()"
   ]
  },
  {
   "cell_type": "markdown",
   "metadata": {},
   "source": [
    "## 1.4 Image compression with K-Means"
   ]
  },
  {
   "cell_type": "code",
   "execution_count": null,
   "metadata": {
    "collapsed": true
   },
   "outputs": [],
   "source": []
  }
 ],
 "metadata": {
  "kernelspec": {
   "display_name": "Python 3",
   "language": "python",
   "name": "python3"
  },
  "language_info": {
   "codemirror_mode": {
    "name": "ipython",
    "version": 3
   },
   "file_extension": ".py",
   "mimetype": "text/x-python",
   "name": "python",
   "nbconvert_exporter": "python",
   "pygments_lexer": "ipython3",
   "version": "3.6.3"
  }
 },
 "nbformat": 4,
 "nbformat_minor": 2
}
