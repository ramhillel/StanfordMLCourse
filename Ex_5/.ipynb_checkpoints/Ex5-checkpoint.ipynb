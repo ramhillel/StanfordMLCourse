{
 "cells": [
  {
   "cell_type": "code",
   "execution_count": 2,
   "metadata": {
    "collapsed": true
   },
   "outputs": [],
   "source": [
    "import pandas as pd\n",
    "import numpy as np\n",
    "import matplotlib.pyplot as plt\n",
    "from sklearn import linear_model\n",
    "from scipy import optimize\n",
    "from sympy import *\n",
    "from scipy.io import loadmat\n",
    "import scipy.optimize as op\n",
    "from sklearn.preprocessing import OneHotEncoder\n",
    "from collections import namedtuple\n",
    "%matplotlib inline"
   ]
  },
  {
   "cell_type": "markdown",
   "metadata": {},
   "source": [
    "# 1.  Regularized Linear Regression"
   ]
  },
  {
   "cell_type": "markdown",
   "metadata": {},
   "source": [
    "## 1.1 Visulaize the data"
   ]
  },
  {
   "cell_type": "code",
   "execution_count": 3,
   "metadata": {
    "collapsed": true
   },
   "outputs": [],
   "source": [
    "data = loadmat(\"ex5data1.mat\")"
   ]
  },
  {
   "cell_type": "code",
   "execution_count": 4,
   "metadata": {
    "collapsed": true
   },
   "outputs": [],
   "source": [
    "X, y, Xval, yval, Xtest, ytest = data['X'], data['y'], data['Xval'], data['yval'], data['Xtest'], data['ytest']\n",
    "theta = np.array([1,1])"
   ]
  },
  {
   "cell_type": "code",
   "execution_count": 5,
   "metadata": {},
   "outputs": [
    {
     "data": {
      "image/png": "[encoded data removed]",
      "text/plain": [
       "<matplotlib.figure.Figure at 0x7f5fc3164668>"
      ]
     },
     "metadata": {},
     "output_type": "display_data"
    }
   ],
   "source": [
    "plt.scatter(X, y)\n",
    "plt.title(\"VERY Title\")\n",
    "plt.xlabel(\"Change of water level\")\n",
    "plt.ylabel(\"Water flowing out\")\n",
    "plt.show()"
   ]
  },
  {
   "cell_type": "markdown",
   "metadata": {},
   "source": [
    "## 1.2 Regularized linear regression cost function"
   ]
  },
  {
   "cell_type": "code",
   "execution_count": 6,
   "metadata": {
    "collapsed": true
   },
   "outputs": [],
   "source": [
    "def h(X, theta):\n",
    "    return np.dot(X, theta.T)"
   ]
  },
  {
   "cell_type": "code",
   "execution_count": 7,
   "metadata": {
    "collapsed": true
   },
   "outputs": [],
   "source": [
    "def linearRegressionCost(theta, X, y, gama):\n",
    "    m, n = X.shape\n",
    "    \n",
    "    X = np.matrix(X)\n",
    "    y = np.matrix(y)\n",
    "    theta = np.matrix(theta)\n",
    "    \n",
    "    error = h(X, theta) - y\n",
    "    \n",
    "    firstArg = (1/(2*m))*np.sum(np.power(error, 2))\n",
    "    secondArg = (gama/(2*m))*np.sum(np.power(theta[1:], 2))\n",
    "    return firstArg + secondArg"
   ]
  },
  {
   "cell_type": "code",
   "execution_count": 8,
   "metadata": {},
   "outputs": [
    {
     "data": {
      "text/plain": [
       "303.95152555359761"
      ]
     },
     "execution_count": 8,
     "metadata": {},
     "output_type": "execute_result"
    }
   ],
   "source": [
    "X_one = np.c_[np.ones(X.shape[0]), X]\n",
    "linearRegressionCost(theta, X_one, y, 0)"
   ]
  },
  {
   "cell_type": "markdown",
   "metadata": {},
   "source": [
    "## 1.3 Regularized linear regression gradient"
   ]
  },
  {
   "cell_type": "code",
   "execution_count": 9,
   "metadata": {
    "collapsed": true
   },
   "outputs": [],
   "source": [
    "def linearRegressionGradient(theta, X, y, gama):\n",
    "    m, n = X.shape\n",
    "    \n",
    "    X = np.matrix(X)\n",
    "    y = np.matrix(y)\n",
    "    theta = np.matrix(theta)\n",
    "    \n",
    "    error = h(X, theta) - y\n",
    "    \n",
    "    grad = ((1/m)*np.dot(X.T, error) + (gama/m)*(theta.T)).T\n",
    "    \n",
    "    return grad"
   ]
  },
  {
   "cell_type": "code",
   "execution_count": 10,
   "metadata": {},
   "outputs": [
    {
     "data": {
      "text/plain": [
       "matrix([[ -15.30301567,  598.16741084]])"
      ]
     },
     "execution_count": 10,
     "metadata": {},
     "output_type": "execute_result"
    }
   ],
   "source": [
    "linearRegressionGradient(theta, X_one, y, 0)"
   ]
  },
  {
   "cell_type": "markdown",
   "metadata": {},
   "source": [
    "## 1.4 Fitting linear regression"
   ]
  },
  {
   "cell_type": "code",
   "execution_count": 11,
   "metadata": {
    "collapsed": true
   },
   "outputs": [],
   "source": [
    "def trainLinearRegression(X, y, gama):\n",
    "    X = np.c_[np.ones(X.shape[0]), X]\n",
    "    init_theta = np.ones(X.shape[1])\n",
    "    opt = optimize.minimize(fun=linearRegressionCost, x0=init_theta, \n",
    "                            args=(X, y, gama), jac=linearRegressionGradient,  method=\"TNC\")\n",
    "    return opt.x"
   ]
  },
  {
   "cell_type": "code",
   "execution_count": 12,
   "metadata": {
    "collapsed": true
   },
   "outputs": [],
   "source": [
    "model = trainLinearRegression(X, y, 0)"
   ]
  },
  {
   "cell_type": "code",
   "execution_count": 13,
   "metadata": {},
   "outputs": [
    {
     "data": {
      "image/png": "[encoded data removed]",
      "text/plain": [
       "<matplotlib.figure.Figure at 0x7f5fbb3119e8>"
      ]
     },
     "metadata": {},
     "output_type": "display_data"
    }
   ],
   "source": [
    "plt.scatter(X, y, marker=\"X\")\n",
    "plt.title(\"VERY Title\")\n",
    "plt.xlabel(\"Change of water level\")\n",
    "plt.ylabel(\"Water flowing out\")\n",
    "x_line = np.linspace(-50, 50, 100)\n",
    "y_line = model[0] + model[1]*x_line\n",
    "plt.plot(x_line, y_line, \"r-\")\n",
    "plt.show()"
   ]
  },
  {
   "cell_type": "markdown",
   "metadata": {},
   "source": [
    "# 2. Bias-variance"
   ]
  },
  {
   "cell_type": "markdown",
   "metadata": {},
   "source": [
    "## 2.1 Learning Curves"
   ]
  },
  {
   "cell_type": "code",
   "execution_count": 14,
   "metadata": {},
   "outputs": [
    {
     "data": {
      "image/png": "[encoded data removed]",
      "text/plain": [
       "<matplotlib.figure.Figure at 0x7f5fd26124a8>"
      ]
     },
     "metadata": {},
     "output_type": "display_data"
    }
   ],
   "source": [
    "def plotLearningCurveByNumberOfSamples(X, y, X_cv, y_cv, gama):\n",
    "    m, n = X.shape\n",
    "    train_size = np.zeros(m)\n",
    "    train_cost = np.zeros(m)\n",
    "    cv_cost = np.zeros(m)\n",
    "    \n",
    "    X_cv = np.c_[np.ones(X_cv.shape[0]),X_cv]\n",
    "    \n",
    "    for i in range(1, m):\n",
    "        train_size[i] = i\n",
    "        X_i = X[:i, :]\n",
    "        y_i = y[:i, :]\n",
    "        model = trainLinearRegression(X=X_i, y=y_i, gama=gama)\n",
    "        X_i = np.c_[np.ones(i),X_i]\n",
    "        train_cost[i] = linearRegressionCost(theta=model, X=X_i, y=y_i, gama=0)\n",
    "        cv_cost[i] = linearRegressionCost(theta=model, X=X_cv, y=y_cv, gama=0)\n",
    "    \n",
    "    fig, ax = plt.subplots()\n",
    "    ax.plot(train_size, train_cost, label=\"Training Cost\")\n",
    "    ax.plot(train_size, cv_cost, label=\"Cross validation Cost\")\n",
    "    ax.legend()\n",
    "\n",
    "plotLearningCurveByNumberOfSamples(X, y, Xval, yval, 0)\n",
    "    "
   ]
  },
  {
   "cell_type": "markdown",
   "metadata": {},
   "source": [
    "# 3. Polynomial Regression"
   ]
  },
  {
   "cell_type": "code",
   "execution_count": 15,
   "metadata": {
    "collapsed": true
   },
   "outputs": [],
   "source": [
    "def polyFeatures(X, p):\n",
    "    polyX = X\n",
    "    for i in range(2, p+1):\n",
    "        polyX = np.c_[polyX, np.power(X, i)]\n",
    "    return polyX"
   ]
  },
  {
   "cell_type": "markdown",
   "metadata": {},
   "source": [
    "## 3. Learning Polynomial Regression"
   ]
  },
  {
   "cell_type": "code",
   "execution_count": 32,
   "metadata": {},
   "outputs": [
    {
     "name": "stdout",
     "output_type": "stream",
     "text": [
      "MinMaxScaler(copy=True, feature_range=(0, 1))\n"
     ]
    },
    {
     "data": {
      "image/png": "[encoded data removed]",
      "text/plain": [
       "<matplotlib.figure.Figure at 0x7f5fbb21a748>"
      ]
     },
     "metadata": {},
     "output_type": "display_data"
    }
   ],
   "source": [
    "from sklearn.preprocessing import MinMaxScaler\n",
    "\n",
    "def plotLearningCurveByDegree(p, X, y, X_cv, y_cv, gama):\n",
    "    m, n = X.shape\n",
    "    degree = np.array(range(0, p+1))\n",
    "    train_cost = np.zeros(p+1)\n",
    "    cv_cost = np.zeros(p+1)\n",
    "    \n",
    "    # for normalize training set and CV set with same ratio\n",
    "    min_max_scalar = MinMaxScaler()\n",
    "    X = min_max_scalar.fit_transform(X)\n",
    "    X_cv = min_max_scalar.transform(X_cv)\n",
    "    \n",
    "    polyX = polyFeatures(X, p)\n",
    "    X_cv = polyFeatures(X_cv, p)\n",
    "    \n",
    "    \n",
    "    \n",
    "    print(min_max_scalar)\n",
    "    \n",
    "    X_cv = np.c_[np.ones(X_cv.shape[0]),X_cv]\n",
    "    \n",
    "    for i in range(2, p+1):\n",
    "        X_i = polyX[:, :i]\n",
    "        model = trainLinearRegression(X=X_i, y=y, gama=gama)\n",
    "        X_i = np.c_[np.ones(m),X_i]\n",
    "        train_cost[i] = linearRegressionCost(theta=model, X=X_i, y=y, gama=0)\n",
    "        cv_cost[i] = linearRegressionCost(theta=model, X=X_cv[:, :i+1], y=y_cv, gama=0)\n",
    "        \n",
    "    fig, ax = plt.subplots()\n",
    "    ax.plot(degree[2:], train_cost[2:], label=\"Training Cost\")\n",
    "    ax.plot(degree[2:], cv_cost[2:], label=\"Cross validation Cost\")\n",
    "    ax.legend()\n",
    "\n",
    "plotLearningCurveByDegree(8, X, y, Xval, yval, 1)\n",
    "\n",
    "# I can see as gama increasing the CV error decresing until some point.\n",
    "        "
   ]
  }
 ],
 "metadata": {
  "kernelspec": {
   "display_name": "Python 3",
   "language": "python",
   "name": "python3"
  },
  "language_info": {
   "codemirror_mode": {
    "name": "ipython",
    "version": 3
   },
   "file_extension": ".py",
   "mimetype": "text/x-python",
   "name": "python",
   "nbconvert_exporter": "python",
   "pygments_lexer": "ipython3",
   "version": "3.6.3"
  }
 },
 "nbformat": 4,
 "nbformat_minor": 2
}
