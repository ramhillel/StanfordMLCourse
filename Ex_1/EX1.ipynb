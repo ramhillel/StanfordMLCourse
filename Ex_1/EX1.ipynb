{
 "cells": [
  {
   "cell_type": "markdown",
   "metadata": {},
   "source": [
    "# Exercise 1"
   ]
  },
  {
   "cell_type": "markdown",
   "metadata": {
    "collapsed": true
   },
   "source": [
    "## 2.1 Plotting The Data"
   ]
  },
  {
   "cell_type": "code",
   "execution_count": 2,
   "metadata": {
    "collapsed": true
   },
   "outputs": [],
   "source": [
    "import pandas as pd\n",
    "import numpy as np\n",
    "import matplotlib.pyplot as plt  \n",
    "%matplotlib inline"
   ]
  },
  {
   "cell_type": "code",
   "execution_count": 186,
   "metadata": {
    "collapsed": true
   },
   "outputs": [],
   "source": [
    "df = pd.read_csv(\"ex1data1.txt\", header=None, names=['City Population', 'Food Truck Profit'])"
   ]
  },
  {
   "cell_type": "code",
   "execution_count": 187,
   "metadata": {},
   "outputs": [
    {
     "data": {
      "text/html": [
       "<div>\n",
       "<style>\n",
       "    .dataframe thead tr:only-child th {\n",
       "        text-align: right;\n",
       "    }\n",
       "\n",
       "    .dataframe thead th {\n",
       "        text-align: left;\n",
       "    }\n",
       "\n",
       "    .dataframe tbody tr th {\n",
       "        vertical-align: top;\n",
       "    }\n",
       "</style>\n",
       "<table border=\"1\" class=\"dataframe\">\n",
       "  <thead>\n",
       "    <tr style=\"text-align: right;\">\n",
       "      <th></th>\n",
       "      <th>City Population</th>\n",
       "      <th>Food Truck Profit</th>\n",
       "    </tr>\n",
       "  </thead>\n",
       "  <tbody>\n",
       "    <tr>\n",
       "      <th>0</th>\n",
       "      <td>6.1101</td>\n",
       "      <td>17.5920</td>\n",
       "    </tr>\n",
       "    <tr>\n",
       "      <th>1</th>\n",
       "      <td>5.5277</td>\n",
       "      <td>9.1302</td>\n",
       "    </tr>\n",
       "    <tr>\n",
       "      <th>2</th>\n",
       "      <td>8.5186</td>\n",
       "      <td>13.6620</td>\n",
       "    </tr>\n",
       "    <tr>\n",
       "      <th>3</th>\n",
       "      <td>7.0032</td>\n",
       "      <td>11.8540</td>\n",
       "    </tr>\n",
       "    <tr>\n",
       "      <th>4</th>\n",
       "      <td>5.8598</td>\n",
       "      <td>6.8233</td>\n",
       "    </tr>\n",
       "  </tbody>\n",
       "</table>\n",
       "</div>"
      ],
      "text/plain": [
       "   City Population  Food Truck Profit\n",
       "0           6.1101            17.5920\n",
       "1           5.5277             9.1302\n",
       "2           8.5186            13.6620\n",
       "3           7.0032            11.8540\n",
       "4           5.8598             6.8233"
      ]
     },
     "execution_count": 187,
     "metadata": {},
     "output_type": "execute_result"
    }
   ],
   "source": [
    "df.head()"
   ]
  },
  {
   "cell_type": "code",
   "execution_count": 188,
   "metadata": {},
   "outputs": [
    {
     "data": {
      "text/html": [
       "<div>\n",
       "<style>\n",
       "    .dataframe thead tr:only-child th {\n",
       "        text-align: right;\n",
       "    }\n",
       "\n",
       "    .dataframe thead th {\n",
       "        text-align: left;\n",
       "    }\n",
       "\n",
       "    .dataframe tbody tr th {\n",
       "        vertical-align: top;\n",
       "    }\n",
       "</style>\n",
       "<table border=\"1\" class=\"dataframe\">\n",
       "  <thead>\n",
       "    <tr style=\"text-align: right;\">\n",
       "      <th></th>\n",
       "      <th>City Population</th>\n",
       "      <th>Food Truck Profit</th>\n",
       "    </tr>\n",
       "  </thead>\n",
       "  <tbody>\n",
       "    <tr>\n",
       "      <th>count</th>\n",
       "      <td>97.000000</td>\n",
       "      <td>97.000000</td>\n",
       "    </tr>\n",
       "    <tr>\n",
       "      <th>mean</th>\n",
       "      <td>8.159800</td>\n",
       "      <td>5.839135</td>\n",
       "    </tr>\n",
       "    <tr>\n",
       "      <th>std</th>\n",
       "      <td>3.869884</td>\n",
       "      <td>5.510262</td>\n",
       "    </tr>\n",
       "    <tr>\n",
       "      <th>min</th>\n",
       "      <td>5.026900</td>\n",
       "      <td>-2.680700</td>\n",
       "    </tr>\n",
       "    <tr>\n",
       "      <th>25%</th>\n",
       "      <td>5.707700</td>\n",
       "      <td>1.986900</td>\n",
       "    </tr>\n",
       "    <tr>\n",
       "      <th>50%</th>\n",
       "      <td>6.589400</td>\n",
       "      <td>4.562300</td>\n",
       "    </tr>\n",
       "    <tr>\n",
       "      <th>75%</th>\n",
       "      <td>8.578100</td>\n",
       "      <td>7.046700</td>\n",
       "    </tr>\n",
       "    <tr>\n",
       "      <th>max</th>\n",
       "      <td>22.203000</td>\n",
       "      <td>24.147000</td>\n",
       "    </tr>\n",
       "  </tbody>\n",
       "</table>\n",
       "</div>"
      ],
      "text/plain": [
       "       City Population  Food Truck Profit\n",
       "count        97.000000          97.000000\n",
       "mean          8.159800           5.839135\n",
       "std           3.869884           5.510262\n",
       "min           5.026900          -2.680700\n",
       "25%           5.707700           1.986900\n",
       "50%           6.589400           4.562300\n",
       "75%           8.578100           7.046700\n",
       "max          22.203000          24.147000"
      ]
     },
     "execution_count": 188,
     "metadata": {},
     "output_type": "execute_result"
    }
   ],
   "source": [
    "df.describe()"
   ]
  },
  {
   "cell_type": "code",
   "execution_count": 189,
   "metadata": {},
   "outputs": [
    {
     "data": {
      "text/plain": [
       "<matplotlib.axes._subplots.AxesSubplot at 0x7fe53528e240>"
      ]
     },
     "execution_count": 189,
     "metadata": {},
     "output_type": "execute_result"
    },
    {
     "data": {
      "image/png": "[encoded data removed]",
      "text/plain": [
       "<matplotlib.figure.Figure at 0x7fe53528a160>"
      ]
     },
     "metadata": {},
     "output_type": "display_data"
    }
   ],
   "source": [
    "X = df.as_matrix(columns=df.columns[:1])\n",
    "y = df.as_matrix(columns=df.columns[1:])\n",
    "df.plot(kind='scatter', x='City Population', y='Food Truck Profit', figsize=(8,8))"
   ]
  },
  {
   "cell_type": "markdown",
   "metadata": {},
   "source": [
    "## Gradient Descent\n",
    "\n",
    "### Also for multivariant "
   ]
  },
  {
   "cell_type": "code",
   "execution_count": 317,
   "metadata": {
    "collapsed": true
   },
   "outputs": [],
   "source": [
    "def computeJThetaCost(X, y, theta):\n",
    "    ''' X: Matrix - data matrix\n",
    "        y: column vector - result vector\n",
    "        theta: row vector - Model vector'''\n",
    "    resultInnerVector = np.power((X * np.transpose(theta)) - y, 2)\n",
    "    m = X.shape[0]\n",
    "    sumOfSquares = np.sum(resultInnerVector)\n",
    "    return (1/float(2*m))*sumOfSquares\n",
    "\n",
    "def getXyThetaFromData(pathToCSV, useRandomTheta, useNormalization):\n",
    "    df = pd.read_csv(pathToCSV, header=None)\n",
    "    df_mean = df.mean()\n",
    "    df_std = df.std()\n",
    "    if useNormalization:\n",
    "        df = (df - df_mean)/df_std\n",
    "    df.insert(0, 'Ones', 1)\n",
    "    m, n = df.shape # number of samples, number of features + 1\n",
    "    X = np.matrix(df.as_matrix(columns=df.columns[:n-1]))\n",
    "    y = np.matrix(df.as_matrix(columns=df.columns[n-1:]))\n",
    "    theta = np.matrix(np.zeros(n-1) if not useRandomTheta else 5*np.random.random_sample(size=n-1))\n",
    "    return X, y, theta, df_mean, df_std"
   ]
  },
  {
   "cell_type": "code",
   "execution_count": 318,
   "metadata": {
    "collapsed": true
   },
   "outputs": [],
   "source": [
    "def findThetaValues(X, y, theta, alpha, numberOfIters, converganceTreshold):\n",
    "    currentCost = 0\n",
    "    newCost = computeJThetaCost(X, y, theta)\n",
    "    costFunction = []\n",
    "    while ((numberOfIters > 0)  if numberOfIters is not None \n",
    "           else (np.abs(newCost - currentCost) > converganceTreshold)):\n",
    "        theta = computeNewTheta(X, y, theta, alpha)\n",
    "        currentCost = newCost\n",
    "        newCost = computeJThetaCost(X, y, theta)\n",
    "        costFunction.append(newCost)\n",
    "        numberOfIters = (numberOfIters - 1) if numberOfIters is not None else None\n",
    "    \n",
    "    return theta, costFunction\n",
    "\n",
    "def computeNewTheta(X, y, theta, alpha):\n",
    "    newTheta = np.matrix(np.zeros(theta.shape[1])) # For not overwrite the original theta values\n",
    "    numOfFeature = theta.shape[1]\n",
    "    m = X.shape[0]\n",
    "    constMult = (X * np.transpose(theta)) - y\n",
    "    for j in range(numOfFeature):\n",
    "        innerMult = np.multiply(constMult, X[:, j])\n",
    "        newTheta[0, j] = theta[0, j ] - (float(alpha)/float(m))*np.sum(innerMult)\n",
    "\n",
    "    return newTheta"
   ]
  },
  {
   "cell_type": "code",
   "execution_count": 322,
   "metadata": {
    "collapsed": true
   },
   "outputs": [],
   "source": [
    "def linearRegression(pathToCSV, useNormalization=False, useRandomTheta=False, \n",
    "                     computeWithIters=False, debugMode=False,\n",
    "                     converganceTreshold=0.01, alpha=0.01):\n",
    "    \n",
    "    ''' input: path to csv file containing the data\n",
    "        output: the model (theta matrix) and the normaliztion'''\n",
    "    \n",
    "    X, y, theta, df_std, df_mean = getXyThetaFromData(pathToCSV, useRandomTheta, useNormalization)\n",
    "    theta, costFunction = findThetaValues(X, y, theta, numberOfIters=1000 if computeWithIters else None, \n",
    "                            converganceTreshold=converganceTreshold, alpha=alpha)\n",
    "    print(costFunction[-1])\n",
    "    if debugMode:\n",
    "        fig, ax = plt.subplots(figsize=(12,8))  \n",
    "        ax.plot(costFunction, 'r')  \n",
    "        ax.set_xlabel('Iterations')  \n",
    "        ax.set_ylabel('Cost')  \n",
    "        ax.set_title('Error vs. Training Epoch')\n",
    "    \n",
    "    return theta, df_std, df_mean"
   ]
  },
  {
   "cell_type": "markdown",
   "metadata": {},
   "source": [
    "## With sklearn! VERY WOW! MUCH Easy!"
   ]
  },
  {
   "cell_type": "code",
   "execution_count": 1,
   "metadata": {
    "collapsed": true
   },
   "outputs": [],
   "source": [
    "from sklearn import linear_model"
   ]
  },
  {
   "cell_type": "code",
   "execution_count": 21,
   "metadata": {},
   "outputs": [
    {
     "data": {
      "text/plain": [
       "<matplotlib.collections.PathCollection at 0x7f900b9b10f0>"
      ]
     },
     "execution_count": 21,
     "metadata": {},
     "output_type": "execute_result"
    },
    {
     "data": {
      "image/png": "[encoded data removed]",
      "text/plain": [
       "<matplotlib.figure.Figure at 0x7f90187779b0>"
      ]
     },
     "metadata": {},
     "output_type": "display_data"
    }
   ],
   "source": [
    "linearModel = linear_model.LinearRegression()\n",
    "df = pd.read_csv(\"ex1data1.txt\", header=None)\n",
    "X = np.matrix(df.as_matrix(columns=df.columns[:1]))\n",
    "y = np.matrix(df.as_matrix(columns=df.columns[1:]))\n",
    "linearModel.fit(X, y)\n",
    "x = np.array(X)\n",
    "f = linearModel.predict(X)\n",
    "ax = plt.subplot()\n",
    "ax.plot(x, f, 'r')\n",
    "ax.scatter(df[0], df[1])"
   ]
  }
 ],
 "metadata": {
  "kernelspec": {
   "display_name": "Python 3",
   "language": "python",
   "name": "python3"
  },
  "language_info": {
   "codemirror_mode": {
    "name": "ipython",
    "version": 3
   },
   "file_extension": ".py",
   "mimetype": "text/x-python",
   "name": "python",
   "nbconvert_exporter": "python",
   "pygments_lexer": "ipython3",
   "version": "3.6.3"
  }
 },
 "nbformat": 4,
 "nbformat_minor": 2
}
